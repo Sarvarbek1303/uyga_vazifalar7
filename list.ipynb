{
 "cells": [
  {
   "cell_type": "markdown",
   "metadata": {},
   "source": [
    "List"
   ]
  },
  {
   "cell_type": "code",
   "execution_count": 4,
   "metadata": {},
   "outputs": [
    {
     "name": "stdout",
     "output_type": "stream",
     "text": [
      "[1, 2, 3, 4, 5, 6, 7, 8, 9, 10]\n"
     ]
    }
   ],
   "source": [
    "# Creating a list of numbers from 1 to 11\n",
    "numbers = []\n",
    "for i in range(1, 11):\n",
    "    numbers.append(i)\n",
    "print(numbers)"
   ]
  },
  {
   "cell_type": "code",
   "execution_count": 9,
   "metadata": {},
   "outputs": [
    {
     "name": "stdout",
     "output_type": "stream",
     "text": [
      "[2, 4, 6, 8, 10]\n",
      "[1, 3, 5, 7, 9]\n"
     ]
    }
   ],
   "source": [
    "numbers=list(range(1,11))\n",
    "\n",
    "# Finding the even numbers\n",
    "\n",
    "even_numbers = [num for num in numbers if num % 2 == 0]\n",
    "print(even_numbers)\n",
    "\n",
    "# Finding the odd numbers\n",
    "\n",
    "odd_numbers = [num for num in numbers if num % 2!= 0]\n",
    "print(odd_numbers)\n"
   ]
  },
  {
   "cell_type": "code",
   "execution_count": 24,
   "metadata": {},
   "outputs": [
    {
     "name": "stdout",
     "output_type": "stream",
     "text": [
      "Initial List:\n",
      "['Apple', 'Banana', 'Orange']\n",
      "append List:\n",
      "['Apple', 'Banana', 'Orange', 'Mango', 'Grapes', 'Pineapple']\n",
      "removed List:\n",
      "['Apple', 'Banana', 'Orange']\n"
     ]
    }
   ],
   "source": [
    "fruits = [\"Apple\", \"Banana\", \"Orange\"]\n",
    "\n",
    "# Initial list\n",
    "print(\"Initial List:\")\n",
    "print(fruits)\n",
    "\n",
    "# Append an element to the end of the list\n",
    "fruits.append(\"Mango\")\n",
    "fruits.append(\"Grapes\")\n",
    "fruits.append(\"Pineapple\")\n",
    "print(\"append List:\")\n",
    "print(fruits)\n",
    "\n",
    "fruits.remove(\"Mango\")\n",
    "fruits.remove(\"Grapes\")\n",
    "fruits.remove(\"Pineapple\")\n",
    "print(\"removed List:\")\n",
    "print(fruits)\n"
   ]
  },
  {
   "cell_type": "code",
   "execution_count": 26,
   "metadata": {},
   "outputs": [
    {
     "name": "stdout",
     "output_type": "stream",
     "text": [
      "3\n"
     ]
    }
   ],
   "source": [
    "length = len(fruits)\n",
    "print(length)"
   ]
  },
  {
   "cell_type": "code",
   "execution_count": 30,
   "metadata": {},
   "outputs": [
    {
     "name": "stdout",
     "output_type": "stream",
     "text": [
      "Max element is 110, min element is 1\n"
     ]
    }
   ],
   "source": [
    "a = [110, 5, 3, 8, 20, 1]\n",
    "\n",
    "# Max() will return the largest in 'a'\n",
    "largest = max(a)\n",
    "\n",
    "# Min() will return the smallest in 'a'\n",
    "\n",
    "smallest = min(a)\n",
    "\n",
    "# Print the largest and smallest elements\n",
    "print(f'Max element is {largest}, min element is {smallest}')"
   ]
  },
  {
   "cell_type": "code",
   "execution_count": null,
   "metadata": {},
   "outputs": [],
   "source": []
  }
 ],
 "metadata": {
  "kernelspec": {
   "display_name": "base",
   "language": "python",
   "name": "python3"
  },
  "language_info": {
   "codemirror_mode": {
    "name": "ipython",
    "version": 3
   },
   "file_extension": ".py",
   "mimetype": "text/x-python",
   "name": "python",
   "nbconvert_exporter": "python",
   "pygments_lexer": "ipython3",
   "version": "3.12.4"
  }
 },
 "nbformat": 4,
 "nbformat_minor": 2
}
